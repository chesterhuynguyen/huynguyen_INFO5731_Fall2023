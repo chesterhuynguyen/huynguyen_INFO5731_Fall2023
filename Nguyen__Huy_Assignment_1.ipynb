{
  "cells": [
    {
      "cell_type": "markdown",
      "metadata": {
        "id": "view-in-github",
        "colab_type": "text"
      },
      "source": [
        "<a href=\"https://colab.research.google.com/github/chesterhuynguyen/huynguyen_INFO5731_Fall2023/blob/main/Nguyen__Huy_Assignment_1.ipynb\" target=\"_parent\"><img src=\"https://colab.research.google.com/assets/colab-badge.svg\" alt=\"Open In Colab\"/></a>"
      ]
    },
    {
      "cell_type": "markdown",
      "metadata": {
        "id": "Ryk8D1Q4Wsrp"
      },
      "source": [
        "# **INFO5731 Assignment One**"
      ]
    },
    {
      "cell_type": "markdown",
      "metadata": {
        "id": "90_NR8c5XGWc"
      },
      "source": [
        "# Question 1\n",
        "\n",
        "(20 points). Write a Python program to generate 12 random numbers between 1 and 100. Sort the list of numbers in ascending order and print it out. Sort the list of numbers in descending order and print it out. Calculate the average for the group and print it out."
      ]
    },
    {
      "cell_type": "code",
      "execution_count": null,
      "metadata": {
        "id": "5QX6bJjGWXY9",
        "colab": {
          "base_uri": "https://localhost:8080/"
        },
        "outputId": "1fed903a-0aeb-4f76-b153-e2edab6f030b"
      },
      "outputs": [
        {
          "output_type": "stream",
          "name": "stdout",
          "text": [
            "Number in descending order:  [94, 83, 79, 77, 65, 48, 44, 32, 28, 24, 17, 4]\n",
            "Number in ascending order:  [4, 17, 24, 28, 32, 44, 48, 65, 77, 79, 83, 94]\n",
            "Average:  49.583333333333336\n"
          ]
        }
      ],
      "source": [
        "\n",
        "import random\n",
        "#import random module\n",
        "\n",
        "random_numbers = [random.randint(1,100)for _ in range(12)]\n",
        "#generate 12 random integers between 1 and 100 using the randint function\n",
        "\n",
        "random_numbers.sort(reverse = True)\n",
        "print(\"Number in descending order: \", random_numbers)\n",
        "#sorting the list in descending order\n",
        "\n",
        "random_numbers.sort(reverse = False)\n",
        "print(\"Number in ascending order: \", random_numbers)\n",
        "#sorting the list in ascending order\n",
        "\n",
        "average = sum(random_numbers) / 12\n",
        "print(\"Average: \", average)\n",
        "#calculate the average\n",
        "\n"
      ]
    },
    {
      "cell_type": "markdown",
      "metadata": {
        "id": "1F_PZdH9Sh49"
      },
      "source": [
        "# Question 2\n",
        "(25 points).\n",
        "\n",
        "Write a program that will do the following string formatting tasks:\n",
        "\n",
        "(1) Ask the user to enter two sentences.\n",
        "\n",
        "(2) Make each sentence into a list. Each element in the list should correspond to a word in the sentence. For example, if the sentence is \"Alas! Am I alive? This is my first python program\", the program should print out ['Alas, '!', 'Am', 'I', 'alive, '?', 'This', 'is', 'my', 'first', 'python', 'program'].\n",
        "\n",
        "(3) Compare the two sentences. Print out a list of words that occur in both sentences.\n",
        "\n",
        "(4) Remove any punctuation from the sentence and print it back out. It should remove at least the following characters, but it can remove more: period(“.”), comma (“,”), semicolon (“;”), and colon (“:”)\n",
        "\n",
        "(5) Count the number of vowels in the sentences. Print out each vowel and the number of times it appears in the sentences, such as: a:2, e:1, i:0, etc"
      ]
    },
    {
      "cell_type": "code",
      "execution_count": null,
      "metadata": {
        "id": "Y0oOSlsOS0cq",
        "colab": {
          "base_uri": "https://localhost:8080/"
        },
        "outputId": "20058527-8f5b-4a27-d82a-89b05370129d"
      },
      "outputs": [
        {
          "output_type": "stream",
          "name": "stdout",
          "text": [
            "Enter the first sentence: It's me. Hi! i am a problem, it's me\n",
            "Enter the second sentence: It's me. Hi! i am a not problem\n",
            "List of words in sentence 1: [\"It's\", 'me.', 'Hi!', 'i', 'am', 'a', 'problem,', \"it's\", 'me']\n",
            "List of words in sentence 2: [\"It's\", 'me.', 'Hi!', 'i', 'am', 'a', 'not', 'problem']\n",
            "Common words: ['i', 'me.', 'a', 'Hi!', 'am', \"It's\"]\n",
            "Sentence 1 without punctuation: Its me Hi i am a problem its me\n",
            "Sentence 2 without punctuation: Its me Hi i am a not problem\n",
            "Vowel counts in sentence 1: {'i': 4, 'e': 3, 'a': 2, 'o': 1}\n",
            "Vowel counts in sentence 2: {'i': 3, 'e': 2, 'a': 2, 'o': 2}\n"
          ]
        }
      ],
      "source": [
        "sentence1 = input(\"Enter the first sentence: \")\n",
        "sentence2 = input(\"Enter the second sentence: \")\n",
        "# Input two sentences\n",
        "\n",
        "sentence1_list = sentence1.split()\n",
        "sentence2_list = sentence2.split()\n",
        "print(\"List of words in sentence 1:\", sentence1_list)\n",
        "print(\"List of words in sentence 2:\", sentence2_list)\n",
        "#Make each sentence into a list of words\n",
        "\n",
        "common_words = list(set(sentence1_list) & set(sentence2_list))\n",
        "print(\"Common words:\", common_words)\n",
        "#Compare the two sentences and find common words\n",
        "\n",
        "import string\n",
        "def remove_punctuation(sentence):\n",
        "    translator = str.maketrans('', '', string.punctuation)\n",
        "    return sentence.translate(translator)\n",
        "#remove punctuation function\n",
        "\n",
        "sentence1_clean = remove_punctuation(sentence1)\n",
        "sentence2_clean = remove_punctuation(sentence2)\n",
        "print(\"Sentence 1 without punctuation:\", sentence1_clean)\n",
        "print(\"Sentence 2 without punctuation:\", sentence2_clean)\n",
        "#Remove punctuation from each sentence\n",
        "\n",
        "def count_vowels(sentence):\n",
        "    vowels = \"aeiouAEIOU\"\n",
        "    vowel_count = {}\n",
        "    for char in sentence:\n",
        "        if char in vowels:\n",
        "            char_lower = char.lower()\n",
        "            vowel_count[char_lower] = vowel_count.get(char_lower, 0) + 1\n",
        "    return vowel_count\n",
        "#Count vowels function\n",
        "\n",
        "vowel_count1 = count_vowels(sentence1_clean)\n",
        "vowel_count2 = count_vowels(sentence2_clean)\n",
        "print(\"Vowel counts in sentence 1:\", vowel_count1)\n",
        "print(\"Vowel counts in sentence 2:\", vowel_count2)\n",
        "#Count vowels in the sentences\n",
        "\n",
        "\n"
      ]
    },
    {
      "cell_type": "markdown",
      "metadata": {
        "id": "CmFoI4jDS9nx"
      },
      "source": [
        "# Question 3\n",
        "\n",
        "(15 points). The formula that describes the volume V of a sphere with radius r is the following:\n",
        "\n",
        "$ V=\\frac{4}{3}\\ast\\ \\pi\\ast\\ r^3 $\n",
        "\n",
        "Write a program to calculate the value of V when r is in the range of 1–10. Output the result in the following format:\n",
        "\n",
        "\tr\tV\n",
        "\t1\t…\n",
        "\t2\t…\n",
        "\t3\t…\n"
      ]
    },
    {
      "cell_type": "code",
      "execution_count": null,
      "metadata": {
        "id": "pEyqeioAT95b",
        "colab": {
          "base_uri": "https://localhost:8080/"
        },
        "outputId": "d6fafa31-7ec9-4472-d8da-eea967835de3"
      },
      "outputs": [
        {
          "output_type": "stream",
          "name": "stdout",
          "text": [
            "r    V\n",
            "1    4.19\n",
            "2    33.51\n",
            "3    113.10\n",
            "4    268.08\n",
            "5    523.60\n",
            "6    904.78\n",
            "7    1436.76\n",
            "8    2144.66\n",
            "9    3053.63\n",
            "10    4188.79\n"
          ]
        }
      ],
      "source": [
        "import math\n",
        "#import math module\n",
        "\n",
        "def calculate_volume(r):\n",
        "  V = 4/3 * math.pi * r**3\n",
        "  return V\n",
        "#calculate the V function\n",
        "\n",
        "print(\"r    V\")\n",
        "\n",
        "for r in range(1,11):\n",
        "    V = calculate_volume(r)\n",
        "    print(f\"{r}   {V: .2f}\")\n",
        "#print the result\n",
        "\n"
      ]
    },
    {
      "cell_type": "markdown",
      "metadata": {
        "id": "z3tBE7E-Xn5X"
      },
      "source": [
        "# Question 4\n",
        "\n",
        "(40 points). In the field of Data Science, data is often formatted as a comma-delimited (CSV) file, where each line in a file corresponds to a field's value. Refer to Chapter 9 (p. 106) for more information on comma-delimited files. To answer this question, you will need to download the file [Assignment1_denton_housing.csv](https://raw.githubusercontent.com/unt-iialab/info5731-spring2022/main/assignments/Assignment1_denton_housing.csv) included with this assignment. The file [Assignment1_denton_housing.csv](https://raw.githubusercontent.com/unt-iialab/info5731-spring2022/main/assignments/Assignment1_denton_housing.csv) contains statistics about housing in the city of Denton from 2008 to 2014. Write a program to implement the following questions.\n",
        "\n",
        "(1) (10 pts) Calculate the difference in the number of Occupied Housing Units from year to year and print it. The difference must be calculated for the consecutive years such as 2008-2009, 2009-2010 etc. Finally, print the values in the ascending order.\n",
        "\n",
        "(2) (10 pts) For all the years, calculate the percentage of housing units which are vacant an occupied. Print the results in the following format:\n",
        "\n",
        "Year Vacant Housing Units Occupied Housing Units\n",
        "\n",
        "    2008  30%   70%                          \n",
        "\t2009 ----- -----\n",
        "\t2010 ----- -----\n",
        "    2011 ----- -----\n",
        "\t2012 ----- -----\n",
        "    2013 ----- -----\n",
        "\t2014 ----- -----\n",
        "  \n",
        "  \n",
        "\n",
        "(3) (10 pts) Calculate and print the valued and years in which the highest number of housing units were vacant and occupied. Print the results in the following format:  \n",
        "\n",
        "                              Year\tValue\n",
        "\tVacant Housing Units\t  -----   -----\n",
        "\tOccupied Housing Units\t-----   -----\n",
        "\n",
        "(4) (10 pts) Calculate the harmonic mean of the total housing units and print it out. You can find the information about harmonic mean here: https://ncalculators.com/statistics/harmonic-mean-calculator.htm"
      ]
    },
    {
      "cell_type": "code",
      "source": [
        "\n",
        "from google.colab import files\n",
        "\n",
        "\n",
        "uploaded = files.upload()\n",
        "#import file to colab"
      ],
      "metadata": {
        "colab": {
          "base_uri": "https://localhost:8080/",
          "height": 72
        },
        "id": "uRS7bvod2AdC",
        "outputId": "9ab1930f-e7d4-4456-ba9c-a442d4c94a20"
      },
      "execution_count": 1,
      "outputs": [
        {
          "output_type": "display_data",
          "data": {
            "text/plain": [
              "<IPython.core.display.HTML object>"
            ],
            "text/html": [
              "\n",
              "     <input type=\"file\" id=\"files-95571091-eae5-4dc7-a755-6c683242418a\" name=\"files[]\" multiple disabled\n",
              "        style=\"border:none\" />\n",
              "     <output id=\"result-95571091-eae5-4dc7-a755-6c683242418a\">\n",
              "      Upload widget is only available when the cell has been executed in the\n",
              "      current browser session. Please rerun this cell to enable.\n",
              "      </output>\n",
              "      <script>// Copyright 2017 Google LLC\n",
              "//\n",
              "// Licensed under the Apache License, Version 2.0 (the \"License\");\n",
              "// you may not use this file except in compliance with the License.\n",
              "// You may obtain a copy of the License at\n",
              "//\n",
              "//      http://www.apache.org/licenses/LICENSE-2.0\n",
              "//\n",
              "// Unless required by applicable law or agreed to in writing, software\n",
              "// distributed under the License is distributed on an \"AS IS\" BASIS,\n",
              "// WITHOUT WARRANTIES OR CONDITIONS OF ANY KIND, either express or implied.\n",
              "// See the License for the specific language governing permissions and\n",
              "// limitations under the License.\n",
              "\n",
              "/**\n",
              " * @fileoverview Helpers for google.colab Python module.\n",
              " */\n",
              "(function(scope) {\n",
              "function span(text, styleAttributes = {}) {\n",
              "  const element = document.createElement('span');\n",
              "  element.textContent = text;\n",
              "  for (const key of Object.keys(styleAttributes)) {\n",
              "    element.style[key] = styleAttributes[key];\n",
              "  }\n",
              "  return element;\n",
              "}\n",
              "\n",
              "// Max number of bytes which will be uploaded at a time.\n",
              "const MAX_PAYLOAD_SIZE = 100 * 1024;\n",
              "\n",
              "function _uploadFiles(inputId, outputId) {\n",
              "  const steps = uploadFilesStep(inputId, outputId);\n",
              "  const outputElement = document.getElementById(outputId);\n",
              "  // Cache steps on the outputElement to make it available for the next call\n",
              "  // to uploadFilesContinue from Python.\n",
              "  outputElement.steps = steps;\n",
              "\n",
              "  return _uploadFilesContinue(outputId);\n",
              "}\n",
              "\n",
              "// This is roughly an async generator (not supported in the browser yet),\n",
              "// where there are multiple asynchronous steps and the Python side is going\n",
              "// to poll for completion of each step.\n",
              "// This uses a Promise to block the python side on completion of each step,\n",
              "// then passes the result of the previous step as the input to the next step.\n",
              "function _uploadFilesContinue(outputId) {\n",
              "  const outputElement = document.getElementById(outputId);\n",
              "  const steps = outputElement.steps;\n",
              "\n",
              "  const next = steps.next(outputElement.lastPromiseValue);\n",
              "  return Promise.resolve(next.value.promise).then((value) => {\n",
              "    // Cache the last promise value to make it available to the next\n",
              "    // step of the generator.\n",
              "    outputElement.lastPromiseValue = value;\n",
              "    return next.value.response;\n",
              "  });\n",
              "}\n",
              "\n",
              "/**\n",
              " * Generator function which is called between each async step of the upload\n",
              " * process.\n",
              " * @param {string} inputId Element ID of the input file picker element.\n",
              " * @param {string} outputId Element ID of the output display.\n",
              " * @return {!Iterable<!Object>} Iterable of next steps.\n",
              " */\n",
              "function* uploadFilesStep(inputId, outputId) {\n",
              "  const inputElement = document.getElementById(inputId);\n",
              "  inputElement.disabled = false;\n",
              "\n",
              "  const outputElement = document.getElementById(outputId);\n",
              "  outputElement.innerHTML = '';\n",
              "\n",
              "  const pickedPromise = new Promise((resolve) => {\n",
              "    inputElement.addEventListener('change', (e) => {\n",
              "      resolve(e.target.files);\n",
              "    });\n",
              "  });\n",
              "\n",
              "  const cancel = document.createElement('button');\n",
              "  inputElement.parentElement.appendChild(cancel);\n",
              "  cancel.textContent = 'Cancel upload';\n",
              "  const cancelPromise = new Promise((resolve) => {\n",
              "    cancel.onclick = () => {\n",
              "      resolve(null);\n",
              "    };\n",
              "  });\n",
              "\n",
              "  // Wait for the user to pick the files.\n",
              "  const files = yield {\n",
              "    promise: Promise.race([pickedPromise, cancelPromise]),\n",
              "    response: {\n",
              "      action: 'starting',\n",
              "    }\n",
              "  };\n",
              "\n",
              "  cancel.remove();\n",
              "\n",
              "  // Disable the input element since further picks are not allowed.\n",
              "  inputElement.disabled = true;\n",
              "\n",
              "  if (!files) {\n",
              "    return {\n",
              "      response: {\n",
              "        action: 'complete',\n",
              "      }\n",
              "    };\n",
              "  }\n",
              "\n",
              "  for (const file of files) {\n",
              "    const li = document.createElement('li');\n",
              "    li.append(span(file.name, {fontWeight: 'bold'}));\n",
              "    li.append(span(\n",
              "        `(${file.type || 'n/a'}) - ${file.size} bytes, ` +\n",
              "        `last modified: ${\n",
              "            file.lastModifiedDate ? file.lastModifiedDate.toLocaleDateString() :\n",
              "                                    'n/a'} - `));\n",
              "    const percent = span('0% done');\n",
              "    li.appendChild(percent);\n",
              "\n",
              "    outputElement.appendChild(li);\n",
              "\n",
              "    const fileDataPromise = new Promise((resolve) => {\n",
              "      const reader = new FileReader();\n",
              "      reader.onload = (e) => {\n",
              "        resolve(e.target.result);\n",
              "      };\n",
              "      reader.readAsArrayBuffer(file);\n",
              "    });\n",
              "    // Wait for the data to be ready.\n",
              "    let fileData = yield {\n",
              "      promise: fileDataPromise,\n",
              "      response: {\n",
              "        action: 'continue',\n",
              "      }\n",
              "    };\n",
              "\n",
              "    // Use a chunked sending to avoid message size limits. See b/62115660.\n",
              "    let position = 0;\n",
              "    do {\n",
              "      const length = Math.min(fileData.byteLength - position, MAX_PAYLOAD_SIZE);\n",
              "      const chunk = new Uint8Array(fileData, position, length);\n",
              "      position += length;\n",
              "\n",
              "      const base64 = btoa(String.fromCharCode.apply(null, chunk));\n",
              "      yield {\n",
              "        response: {\n",
              "          action: 'append',\n",
              "          file: file.name,\n",
              "          data: base64,\n",
              "        },\n",
              "      };\n",
              "\n",
              "      let percentDone = fileData.byteLength === 0 ?\n",
              "          100 :\n",
              "          Math.round((position / fileData.byteLength) * 100);\n",
              "      percent.textContent = `${percentDone}% done`;\n",
              "\n",
              "    } while (position < fileData.byteLength);\n",
              "  }\n",
              "\n",
              "  // All done.\n",
              "  yield {\n",
              "    response: {\n",
              "      action: 'complete',\n",
              "    }\n",
              "  };\n",
              "}\n",
              "\n",
              "scope.google = scope.google || {};\n",
              "scope.google.colab = scope.google.colab || {};\n",
              "scope.google.colab._files = {\n",
              "  _uploadFiles,\n",
              "  _uploadFilesContinue,\n",
              "};\n",
              "})(self);\n",
              "</script> "
            ]
          },
          "metadata": {}
        },
        {
          "output_type": "stream",
          "name": "stdout",
          "text": [
            "Saving Assignment1_denton_housing.csv to Assignment1_denton_housing.csv\n"
          ]
        }
      ]
    },
    {
      "cell_type": "code",
      "source": [
        "import pandas as pd\n",
        "\n",
        "\n",
        "data = pd.read_csv('Assignment1_denton_housing.csv')\n",
        "# Load the data from the CSV file\n",
        "\n",
        "occupied_housing = data[data['title_field'] == 'Occupied Housing Units'].sort_values(by='year')\n",
        "# Filter rows for \"Occupied Housing Units\" and sort by year\n",
        "\n",
        "occupied_housing['Difference'] = occupied_housing['value'].diff()\n",
        "# Calculate the difference in occupied housing units from year to year\n",
        "\n",
        "print(\"Year   Difference\")\n",
        "for index, row in occupied_housing.iterrows():\n",
        "    if not pd.isna(row['Difference']):\n",
        "        print(f\"{row['year']}     {int(row['Difference'])}\")\n",
        "# Print the values in ascending order"
      ],
      "metadata": {
        "colab": {
          "base_uri": "https://localhost:8080/"
        },
        "id": "T-DDA4ww0QuG",
        "outputId": "38d76270-6c4a-41cd-a5bc-84cb5e7236a9"
      },
      "execution_count": 2,
      "outputs": [
        {
          "output_type": "stream",
          "name": "stdout",
          "text": [
            "Year   Difference\n",
            "2009     -795\n",
            "2010     5091\n",
            "2011     -303\n",
            "2012     1404\n",
            "2013     1565\n",
            "2014     2622\n"
          ]
        }
      ]
    },
    {
      "cell_type": "code",
      "source": [
        "import pandas as pd\n",
        "\n",
        "\n",
        "data = pd.read_csv('Assignment1_denton_housing.csv')\n",
        "\n",
        "pivot_table = data.pivot(index='year', columns='title_field', values='value')\n",
        "# Pivot the data to calculate percentages\n",
        "\n",
        "pivot_table['Total Housing Units'] = pivot_table['Vacant Housing Units'] + pivot_table['Occupied Housing Units']\n",
        "pivot_table['Vacant %'] = (pivot_table['Vacant Housing Units'] / pivot_table['Total Housing Units']) * 100\n",
        "pivot_table['Occupied %'] = (pivot_table['Occupied Housing Units'] / pivot_table['Total Housing Units']) * 100\n",
        "# Calculate percentages\n",
        "\n",
        "print(\"Year  Vacant Housing Units  Occupied Housing Units\")\n",
        "for year in pivot_table.index:\n",
        "    vacant_percent = pivot_table.at[year, 'Vacant %']\n",
        "    occupied_percent = pivot_table.at[year, 'Occupied %']\n",
        "    print(f\"{year}        {vacant_percent:.2f}%             {occupied_percent:.2f}%\")\n",
        "# Print the results in the specified format"
      ],
      "metadata": {
        "colab": {
          "base_uri": "https://localhost:8080/"
        },
        "id": "TfLLJEyk0Zp5",
        "outputId": "08690db9-8968-407a-8bb2-da372df156dc"
      },
      "execution_count": 5,
      "outputs": [
        {
          "output_type": "stream",
          "name": "stdout",
          "text": [
            "Year  Vacant Housing Units  Occupied Housing Units\n",
            "2008        10.88%             89.12%\n",
            "2009        9.07%             90.93%\n",
            "2010        8.14%             91.86%\n",
            "2011        9.38%             90.62%\n",
            "2012        6.68%             93.32%\n",
            "2013        8.80%             91.20%\n",
            "2014        5.73%             94.27%\n"
          ]
        }
      ]
    },
    {
      "cell_type": "code",
      "source": [
        "import pandas as pd\n",
        "\n",
        "data = pd.read_csv('Assignment1_denton_housing.csv')\n",
        "\n",
        "vacant_housing = data[data['title_field'] == 'Vacant Housing Units']\n",
        "occupied_housing = data[data['title_field'] == 'Occupied Housing Units']\n",
        "# Filter rows for \"Vacant Housing Units\" and \"Occupied Housing Units\"\n",
        "\n",
        "max_vacant = vacant_housing[vacant_housing['value'] == vacant_housing['value'].max()]\n",
        "# Find the year and value with the highest number of vacant housing units\n",
        "\n",
        "max_occupied = occupied_housing[occupied_housing['value'] == occupied_housing['value'].max()]\n",
        "# Find the year and value with the highest number of occupied housing units\n",
        "\n",
        "print(\"                       \"\"Year    Value\")\n",
        "print(f\"Vacant Housing Units   {max_vacant.iloc[0]['year']}     {max_vacant.iloc[0]['value']}\")\n",
        "print(f\"Occupied Housing Units {max_occupied.iloc[0]['year']}     {max_occupied.iloc[0]['value']}\")\n",
        "# Print the results in the specified format"
      ],
      "metadata": {
        "colab": {
          "base_uri": "https://localhost:8080/"
        },
        "id": "qNaD6Q1g0vP8",
        "outputId": "3ee06bf9-27a1-49b0-8247-b95fd8d136eb"
      },
      "execution_count": 10,
      "outputs": [
        {
          "output_type": "stream",
          "name": "stdout",
          "text": [
            "                       Year    Value\n",
            "Vacant Housing Units   2008     4483\n",
            "Occupied Housing Units 2014     46295\n"
          ]
        }
      ]
    },
    {
      "cell_type": "code",
      "source": [
        "import pandas as pd\n",
        "import statistics\n",
        "\n",
        "\n",
        "data = pd.read_csv('Assignment1_denton_housing.csv')\n",
        "# Load the data from the CSV file\n",
        "\n",
        "total_housing = data[data['title_field'] == 'Total Housing Units']\n",
        "# Filter rows for \"Total Housing Units\"\n",
        "\n",
        "harmonic_mean = statistics.harmonic_mean(total_housing['value'].astype(float))\n",
        "# Calculate the harmonic mean of the total housing units\n",
        "\n",
        "print(f\"Harmonic Mean of Total Housing Units: {harmonic_mean:.2f}\")\n",
        "# Print the harmonic mean"
      ],
      "metadata": {
        "colab": {
          "base_uri": "https://localhost:8080/"
        },
        "id": "ouE17mSU1zgv",
        "outputId": "d27a6345-6fb7-401e-887c-55cc6cd67d39"
      },
      "execution_count": 16,
      "outputs": [
        {
          "output_type": "stream",
          "name": "stdout",
          "text": [
            "Harmonic Mean of Total Housing Units: 44398.29\n"
          ]
        }
      ]
    }
  ],
  "metadata": {
    "colab": {
      "provenance": [],
      "include_colab_link": true
    },
    "kernelspec": {
      "display_name": "Python 3 (ipykernel)",
      "language": "python",
      "name": "python3"
    },
    "language_info": {
      "codemirror_mode": {
        "name": "ipython",
        "version": 3
      },
      "file_extension": ".py",
      "mimetype": "text/x-python",
      "name": "python",
      "nbconvert_exporter": "python",
      "pygments_lexer": "ipython3",
      "version": "3.9.12"
    }
  },
  "nbformat": 4,
  "nbformat_minor": 0
}