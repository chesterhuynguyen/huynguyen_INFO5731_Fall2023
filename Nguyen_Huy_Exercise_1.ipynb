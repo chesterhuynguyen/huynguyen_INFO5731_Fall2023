{
  "cells": [
    {
      "cell_type": "markdown",
      "metadata": {
        "id": "view-in-github",
        "colab_type": "text"
      },
      "source": [
        "<a href=\"https://colab.research.google.com/github/chesterhuynguyen/huynguyen_INFO5731_Fall2023/blob/main/Nguyen_Huy_Exercise_1.ipynb\" target=\"_parent\"><img src=\"https://colab.research.google.com/assets/colab-badge.svg\" alt=\"Open In Colab\"/></a>"
      ]
    },
    {
      "cell_type": "markdown",
      "metadata": {
        "id": "DymRJbxDBCnf"
      },
      "source": [
        "# **The first In-class-exercise (08/30/2023, 40 points in total)**\n",
        "\n"
      ]
    },
    {
      "cell_type": "markdown",
      "source": [
        "(1) Write a Python program to calculate the area of a rectangle using user-input length and width."
      ],
      "metadata": {
        "id": "FBKvD6O_TY6e"
      }
    },
    {
      "cell_type": "code",
      "source": [
        "def rectangle_area(length, width):\n",
        "  area = length*width\n",
        "  return area\n",
        "\n",
        "length = float(input(\"Insert rectangle's lenght: \"))\n",
        "width = float(input(\"Insert rectangle's width: \"))\n",
        "#Length and width input\n",
        "\n",
        "area = rectangle_area(length, width)\n",
        "#calcuation\n",
        "\n",
        "print(f\"The area of the rectangle is: {area}\")\n",
        "#print the result\n"
      ],
      "metadata": {
        "id": "cikVKDXdTbzE",
        "colab": {
          "base_uri": "https://localhost:8080/"
        },
        "outputId": "08e842fb-bf2c-47d8-ab2b-603e39bc99e0"
      },
      "execution_count": null,
      "outputs": [
        {
          "output_type": "stream",
          "name": "stdout",
          "text": [
            "Insert rectangle's lenght: 4\n",
            "Insert rectangle's width: 5\n",
            "The area of the rectangle is: 20.0\n"
          ]
        }
      ]
    },
    {
      "cell_type": "markdown",
      "source": [
        "(2) Create a program that takes two numbers from the user and swaps their values without using a temporary variable."
      ],
      "metadata": {
        "id": "E9RqrlwdTfvl"
      }
    },
    {
      "cell_type": "code",
      "source": [
        "def swap_number(num1, num2):\n",
        "  num1 = num1+num2\n",
        "  num2 = num1-num2\n",
        "  num1 = num1-num2\n",
        "  return num1, num2\n",
        "# swap number by add, update and subtract the originals\n",
        "\n",
        "num1 = float(input(\"Enter the first number: \"))\n",
        "num2 = float(input(\"Enter the second number: \"))\n",
        "# user's input\n",
        "\n",
        "num1, num2 = swap_number(num1, num2)\n",
        "#swap\n",
        "\n",
        "print(f\"Swap completed: {num1}, {num2}\")"
      ],
      "metadata": {
        "id": "4XvRknixTh1g",
        "colab": {
          "base_uri": "https://localhost:8080/"
        },
        "outputId": "04de20d6-e67e-4cac-8a32-28b260d3c3cc"
      },
      "execution_count": 31,
      "outputs": [
        {
          "output_type": "stream",
          "name": "stdout",
          "text": [
            "Enter the first number: 8\n",
            "Enter the second number: 9\n",
            "Swap completed: 9.0, 8.0\n"
          ]
        }
      ]
    },
    {
      "cell_type": "markdown",
      "metadata": {
        "id": "03jb4GZsBkBS"
      },
      "source": [
        "(3) Write a Python program to calculate the length of a string."
      ]
    },
    {
      "cell_type": "code",
      "source": [
        "def calculate_string_length(input_string):\n",
        "    length = 0\n",
        "    for char in input_string:\n",
        "        length += 1\n",
        "    return length\n",
        "\n",
        "input_string = input(\"Enter a string: \")\n",
        "# Input a string from the user\n",
        "\n",
        "length = calculate_string_length(input_string)\n",
        "print(f\"The length of the string is: {length}\")\n",
        "# Calculate and print the length of the string"
      ],
      "metadata": {
        "colab": {
          "base_uri": "https://localhost:8080/"
        },
        "id": "2g1z7vso2Lv8",
        "outputId": "56f8f9e2-b852-440b-96f3-5ab56457af7c"
      },
      "execution_count": null,
      "outputs": [
        {
          "output_type": "stream",
          "name": "stdout",
          "text": [
            "Enter a string: hello\n",
            "The length of the string is: 5\n"
          ]
        }
      ]
    },
    {
      "cell_type": "markdown",
      "metadata": {
        "id": "jJDe71iLB616"
      },
      "source": [
        "(4) Write a Python program to count the number of characters in a string.\n",
        "\n",
        "Sample String : 'google.com‘,\n",
        "\n",
        "Expected Result : {'o': 3, 'g': 2, '.': 1, 'e': 1, 'l': 1, 'm': 1, 'c': 1}"
      ]
    },
    {
      "cell_type": "code",
      "execution_count": null,
      "metadata": {
        "id": "MtKskTzbCLaU",
        "colab": {
          "base_uri": "https://localhost:8080/"
        },
        "outputId": "4e4a04d6-859a-4f36-9a57-67e0c3d71273"
      },
      "outputs": [
        {
          "output_type": "stream",
          "name": "stdout",
          "text": [
            "Enter a string: google.com\n",
            "{'o': 3, 'g': 2, 'l': 1, 'e': 1, '.': 1, 'c': 1, 'm': 1}\n"
          ]
        }
      ],
      "source": [
        "def count_characters(input_string):\n",
        "    char_count = {}\n",
        "    for char in input_string:\n",
        "        if char in char_count:\n",
        "            char_count[char] += 1\n",
        "        else:\n",
        "            char_count[char] = 1\n",
        "    return char_count\n",
        "\n",
        "def print_descending_order(char_count):\n",
        "    sorted_chars = sorted(char_count.items(), key=lambda x: x[1], reverse=True)\n",
        "    result = {char: count for char, count in sorted_chars}\n",
        "    return result\n",
        "\n",
        "\n",
        "input_string = input(\"Enter a string: \")\n",
        "# Input a string from the user\n",
        "\n",
        "char_count = count_characters(input_string)\n",
        "# Count characters in the string\n",
        "\n",
        "descending_order = print_descending_order(char_count)\n",
        "print(descending_order)\n",
        "# Print characters in descending order\n"
      ]
    },
    {
      "cell_type": "markdown",
      "metadata": {
        "id": "55W9AMdXCSpV"
      },
      "source": [
        "(5) Write a Python program to sum all the items in a list."
      ]
    },
    {
      "cell_type": "code",
      "execution_count": 32,
      "metadata": {
        "id": "I57NXsauCec2",
        "colab": {
          "base_uri": "https://localhost:8080/"
        },
        "outputId": "34e736d7-0d0d-4756-9c55-3f39c30e4b0b"
      },
      "outputs": [
        {
          "output_type": "stream",
          "name": "stdout",
          "text": [
            "Enter a list of number separated by spaces: 3 4 5\n",
            "The sum of the list items is: 12.0\n"
          ]
        }
      ],
      "source": [
        "def calculate_list_sum(input_list):\n",
        "    total = 0\n",
        "    for item in input_list:\n",
        "        total += item\n",
        "    return total\n",
        "\n",
        "input_list = list(map(float, input(\"Enter a list of number separated by spaces: \").split()))\n",
        "# Input a list of numbers from the user\n",
        "\n",
        "total_sum = calculate_list_sum(input_list)\n",
        "print(f\"The sum of the list items is: {total_sum}\")\n",
        "# Calculate and print the sum of the list items"
      ]
    },
    {
      "cell_type": "markdown",
      "metadata": {
        "id": "4ulBZ6yhCi9F"
      },
      "source": [
        "(6) Write a Python program to get a string from a given string where all occurrences of its first char have been changed to '\\$', except the first char itself.\n",
        "\n",
        "Sample String : 'restart‘,\n",
        "\n",
        "Expected Result : 'resta\\$t'"
      ]
    },
    {
      "cell_type": "code",
      "execution_count": null,
      "metadata": {
        "id": "Fj0XhwbBCw2o",
        "colab": {
          "base_uri": "https://localhost:8080/"
        },
        "outputId": "9506acd9-3560-4832-e9bd-b95961a84b80"
      },
      "outputs": [
        {
          "output_type": "stream",
          "name": "stdout",
          "text": [
            "Enter a string: lonely\n",
            "lone$y\n"
          ]
        }
      ],
      "source": [
        "def change_char(string):\n",
        "    first_char = string[0]\n",
        "    string = string.replace(first_char, '$')\n",
        "    string = first_char + string[1:]\n",
        "    return string\n",
        "\n",
        "input_string = input(\"Enter a string: \")\n",
        "# Input a string from the user\n",
        "\n",
        "print(change_char(input_string))\n",
        "\n",
        "#return the new string"
      ]
    },
    {
      "cell_type": "markdown",
      "source": [
        "(7) Create a program that calculates the factorial of a number using a while loop."
      ],
      "metadata": {
        "id": "qVXA3q7ET5JI"
      }
    },
    {
      "cell_type": "code",
      "source": [
        "def factorial(n):\n",
        "    result = 1\n",
        "    while n > 1:\n",
        "        result *= n\n",
        "        n -= 1\n",
        "    return result\n",
        "\n",
        "num = int(input(\"Enter your number: \"))\n",
        "# Input the number from user\n",
        "\n",
        "print(f\"The factorial of {num} is {factorial(num)}\")\n",
        "# Return the factoria of inserted number"
      ],
      "metadata": {
        "id": "Lbt7R6UkT7BA",
        "colab": {
          "base_uri": "https://localhost:8080/"
        },
        "outputId": "07f3569e-3b29-4258-a149-cb20f164ddfb"
      },
      "execution_count": 36,
      "outputs": [
        {
          "output_type": "stream",
          "name": "stdout",
          "text": [
            "Enter your number: 5\n",
            "The factorial of 5 is 120\n"
          ]
        }
      ]
    },
    {
      "cell_type": "markdown",
      "source": [
        "(8) Create a program that takes a list of numbers as input and outputs a new list with only the even numbers."
      ],
      "metadata": {
        "id": "6YfbzXMNT--R"
      }
    },
    {
      "cell_type": "code",
      "source": [
        "def filter_even_numbers(numbers):\n",
        "    even_numbers = []\n",
        "    for number in numbers:\n",
        "        if number % 2 == 0:\n",
        "            even_numbers.append(number)\n",
        "    return even_numbers\n",
        "\n",
        "numbers = list(map(int, input(\"Enter a list of number separated by spaces: \").split()))\n",
        "# Input a list of numbers from the user\n",
        "\n",
        "even_numbers = filter_even_numbers(numbers)\n",
        "print(f\"The even numbers in the list are: {even_numbers}\")"
      ],
      "metadata": {
        "id": "54q7wMQPUAKu",
        "colab": {
          "base_uri": "https://localhost:8080/"
        },
        "outputId": "7f659404-456d-4b18-c7cf-cf5c4e1631af"
      },
      "execution_count": 35,
      "outputs": [
        {
          "output_type": "stream",
          "name": "stdout",
          "text": [
            "Enter a list of number separated by spaces: 3 6 7\n",
            "The even numbers in the list are: [6]\n"
          ]
        }
      ]
    },
    {
      "cell_type": "markdown",
      "metadata": {
        "id": "_bIP7s1MCzue"
      },
      "source": [
        "(9) Write a program with python which could accept two parameter a and b to calculate and output the result of S, where\n",
        "\n",
        "$\\ S=3.14*(1+a/b)^3$\n",
        "\n"
      ]
    },
    {
      "cell_type": "code",
      "execution_count": 5,
      "metadata": {
        "id": "w79QilHXD3Mg",
        "colab": {
          "base_uri": "https://localhost:8080/"
        },
        "outputId": "40780db1-afda-4b85-cb11-173898bfd302"
      },
      "outputs": [
        {
          "output_type": "stream",
          "name": "stdout",
          "text": [
            "Insert a number: 3\n",
            "Insert b number: 4\n",
            "The result of S when a=3.0 and b=4.0 is: 16.8284375\n"
          ]
        }
      ],
      "source": [
        "def calculate_S(a, b):\n",
        "    S = 3.14 * (1 + a/b) ** 3\n",
        "    return S\n",
        "a = float(input(\"Insert a number: \"))\n",
        "b = float(input(\"Insert b number: \"))\n",
        "#Insert numbers from user\n",
        "\n",
        "result = calculate_S(a, b)\n",
        "print(f\"The result of S when a={a} and b={b} is: {result}\")"
      ]
    },
    {
      "cell_type": "markdown",
      "metadata": {
        "id": "xCa2bK9aD4Q3"
      },
      "source": [
        "(10) Write a Python program to concatenate following dictionaries to create a new one.\n",
        "\n",
        "Sample Dictionary : dic1={1:10, 2:20}, dic2={3:30, 4:40}, dic3={5:50,6:60},\n",
        "\n",
        "Expected Result : {1: 10, 2: 20, 3: 30, 4: 40, 5: 50, 6: 60}\n"
      ]
    },
    {
      "cell_type": "code",
      "execution_count": null,
      "metadata": {
        "id": "_z4aLqAbEET1",
        "colab": {
          "base_uri": "https://localhost:8080/"
        },
        "outputId": "dd0cba6f-d1a2-49a9-a2a4-c224b34a8dfe"
      },
      "outputs": [
        {
          "output_type": "stream",
          "name": "stdout",
          "text": [
            "{1: 10, 2: 20, 3: 30, 4: 40, 5: 50, 6: 60}\n"
          ]
        }
      ],
      "source": [
        "dic1 = {1:10, 2:20}\n",
        "dic2 = {3:30, 4:40}\n",
        "dic3 = {5:50, 6:60}\n",
        "# Sample dictionaries\n",
        "\n",
        "result = {**dic1, **dic2, **dic3}\n",
        "# merge 3 dictionaries by using **\n",
        "\n",
        "print(result)"
      ]
    },
    {
      "cell_type": "markdown",
      "source": [
        "(11) Write a Python function that accepts a tuple of integers and returns the largest and smallest elements."
      ],
      "metadata": {
        "id": "bkyZ2xSZUOst"
      }
    },
    {
      "cell_type": "code",
      "source": [
        "def find_largest_smallest(input_tuple):\n",
        "    largest = smallest = input_tuple[0]\n",
        "    for num in input_tuple:\n",
        "        if num > largest:\n",
        "            largest = num\n",
        "        elif num < smallest:\n",
        "            smallest = num\n",
        "    return largest, smallest\n",
        "\n",
        "input_tuple = tuple(map(int, input(\"Enter a tuple of integers separated by spaces: \").split()))\n",
        "# Input a tuple of integers from the use\n",
        "largest, smallest = find_largest_smallest(input_tuple)\n",
        "# Find the largest and smallest elements\n",
        "\n",
        "print(f\"The largest element in the tuple is: {largest}\")\n",
        "print(f\"The smallest element in the tuple is: {smallest}\")\n",
        "\n"
      ],
      "metadata": {
        "id": "3FdLRBKOUQEd",
        "colab": {
          "base_uri": "https://localhost:8080/"
        },
        "outputId": "93588859-1dfa-4519-cbeb-5ff1cc1d8626"
      },
      "execution_count": 37,
      "outputs": [
        {
          "output_type": "stream",
          "name": "stdout",
          "text": [
            "Enter a tuple of integers separated by spaces: 8 9 8 7\n",
            "The largest element in the tuple is: 9\n",
            "The smallest element in the tuple is: 7\n"
          ]
        }
      ]
    },
    {
      "cell_type": "markdown",
      "source": [
        "(12) Write a Python program that counts the frequency of each character in a given string and stores it in a dictionary."
      ],
      "metadata": {
        "id": "O0TVi3gKUTpp"
      }
    },
    {
      "cell_type": "code",
      "source": [
        "def count_character_frequency(input_string):\n",
        "    char_frequency = {}\n",
        "    for char in input_string:\n",
        "        if char in char_frequency:\n",
        "            char_frequency[char] += 1\n",
        "        else:\n",
        "            char_frequency[char] = 1\n",
        "    return char_frequency\n",
        "\n",
        "input_string = input(\"Enter a string: \")\n",
        "# Input a string from the user\n",
        "\n",
        "frequency_dict = count_character_frequency(input_string)\n",
        "# Count character frequency and store in a dictionary\n",
        "\n",
        "print(\"Character frequency:\")\n",
        "for char, freq in frequency_dict.items():\n",
        "    print(f\"'{char}': {freq}\")\n",
        "# Print the character frequency dictionary"
      ],
      "metadata": {
        "id": "lAtfSfZXUU-h",
        "colab": {
          "base_uri": "https://localhost:8080/"
        },
        "outputId": "541b49bd-3726-4b8c-bd7e-1517c926e6d6"
      },
      "execution_count": 6,
      "outputs": [
        {
          "output_type": "stream",
          "name": "stdout",
          "text": [
            "Enter a string: Hello my name is Allen\n",
            "Character frequency:\n",
            "'H': 1\n",
            "'e': 3\n",
            "'l': 4\n",
            "'o': 1\n",
            "' ': 4\n",
            "'m': 2\n",
            "'y': 1\n",
            "'n': 2\n",
            "'a': 1\n",
            "'i': 1\n",
            "'s': 1\n",
            "'A': 1\n"
          ]
        }
      ]
    },
    {
      "cell_type": "markdown",
      "metadata": {
        "id": "0v48Vqa7FrQh"
      },
      "source": [
        "(13) Write a Python program to check whether an element exists within a tuple."
      ]
    },
    {
      "cell_type": "code",
      "execution_count": 7,
      "metadata": {
        "id": "7WEmgq-DF2P1",
        "colab": {
          "base_uri": "https://localhost:8080/"
        },
        "outputId": "8e7f43d5-e2bb-4663-84ca-6dd0f3912146"
      },
      "outputs": [
        {
          "output_type": "stream",
          "name": "stdout",
          "text": [
            "Enter elements separated by spaces to create a tuple: 1 3 4 5 Allen\n",
            "Enter an element to check: Allen\n",
            "'Allen' exists in the tuple.\n"
          ]
        }
      ],
      "source": [
        "def check_element_in_tuple(element, input_tuple):\n",
        "    if element in input_tuple:\n",
        "        return True\n",
        "    else:\n",
        "        return False\n",
        "\n",
        "input_tuple = tuple(input(\"Enter elements separated by spaces to create a tuple: \").split())\n",
        "element_to_check = input(\"Enter an element to check: \")\n",
        "# Input a tuple of elements from the user\n",
        "\n",
        "exists = check_element_in_tuple(element_to_check, input_tuple)\n",
        "# Check if the element exists in the tuple\n",
        "\n",
        "if exists:\n",
        "    print(f\"'{element_to_check}' exists in the tuple.\")\n",
        "else:\n",
        "    print(f\"'{element_to_check}' does not exist in the tuple.\")"
      ]
    },
    {
      "cell_type": "markdown",
      "metadata": {
        "id": "vD5PYLMuGga_"
      },
      "source": [
        "(14) Write a Python program to find maximum and the minimum value in a set."
      ]
    },
    {
      "cell_type": "code",
      "source": [
        "def find_max_min_values(input_set):\n",
        "    maximum = max(input_set)\n",
        "    minimum = min(input_set)\n",
        "    return maximum, minimum\n",
        "\n",
        "input_set = set(map(float, input(\"Enter elements separated by spaces to create a set: \").split()))\n",
        "# Input elements of the set from the user\n",
        "\n",
        "maximum, minimum = find_max_min_values(input_set)\n",
        "# Find maximum and minimum values in the set\n",
        "\n",
        "print(f\"The maximum value in the set is: {maximum}\")\n",
        "print(f\"The minimum value in the set is: {minimum}\")"
      ],
      "metadata": {
        "colab": {
          "base_uri": "https://localhost:8080/"
        },
        "id": "zCevQVEHHJnX",
        "outputId": "23f0e288-bd20-495b-9641-378193a04f43"
      },
      "execution_count": 14,
      "outputs": [
        {
          "output_type": "stream",
          "name": "stdout",
          "text": [
            "Enter elements separated by spaces to create a set: 5 6 9.3\n",
            "The maximum value in the set is: 9.3\n",
            "The minimum value in the set is: 5.0\n"
          ]
        }
      ]
    },
    {
      "cell_type": "markdown",
      "metadata": {
        "id": "uHkd-y5VhVWC"
      },
      "source": [
        "(15) Write a Python program to randomly divide the students in this class into six groups for term projects, each group should have at least 4 students but no more than 6 students (including 6). Here is the students list:\n",
        "student_list_fall_2023=['sb1826' ,\n",
        " 'lb0582' ,\n",
        " 'ab1820' ,\n",
        " 'sb1883' ,\n",
        " 'mb1296' ,\n",
        " 'sc1622' ,\n",
        " 'tc0469' ,\n",
        " 'ac1770' ,\n",
        " 'mc1453' ,\n",
        " 'ad1187' ,\n",
        " 'sd0926' ,\n",
        " 'sd1268' ,\n",
        " 'ag1609' ,\n",
        " 'sg1638' ,\n",
        " 'mg1299' ,\n",
        " 'vkk0022' ,\n",
        " 'bk0413' ,\n",
        " 'gk0257' ,\n",
        " 'am2807' ,\n",
        " 'gm0558' ,\n",
        " 'pm0658' ,\n",
        " 'am2346' ,\n",
        " 'rm1090' ,\n",
        " 'sm2364' ,\n",
        " 'sm2747' ,\n",
        " 'sm2343' ,\n",
        " 'vm0597' ,\n",
        " 'htn0086' ,\n",
        " 'sp2075' ,\n",
        " 'gp0306' ,\n",
        " 'lp0502' ,\n",
        " 'sr1508' ,\n",
        " 'vr0331' ,\n",
        " 'yr0180' ,\n",
        " 'as2819' ,\n",
        " 'ss2981' ,\n",
        " 'ns0756' ,\n",
        " 'mt0825' ,\n",
        " 'dt0463' ,\n",
        " 'su0137' ,\n",
        " 'dv0310'\n",
        "]"
      ]
    },
    {
      "cell_type": "code",
      "execution_count": 19,
      "metadata": {
        "id": "3iGbmcOBhTwy",
        "colab": {
          "base_uri": "https://localhost:8080/"
        },
        "outputId": "b595431f-a6b8-4c7b-9c70-de2151049f5a"
      },
      "outputs": [
        {
          "output_type": "stream",
          "name": "stdout",
          "text": [
            "Group 1: ab1820, mt0825, sd0926, lp0502, ag1609, ad1187\n",
            "Group 2: sc1622, ss2981, vr0331, sm2364, gm0558, su0137\n",
            "Group 3: gk0257, dt0463, mb1296, lb0582, htn0086, bk0413\n",
            "Group 4: sb1826, am2807, am2346, yr0180, as2819, sd1268\n",
            "Group 5: ns0756, sb1883, sm2747, pm0658, sr1508, dv0310\n",
            "Group 6: mc1453, sm2343, ac1770, vm0597, vkk0022, rm1090\n",
            "Group 7: sp2075, sg1638, mg1299, tc0469, gp0306\n"
          ]
        }
      ],
      "source": [
        "import random\n",
        "\n",
        "def divide_students_into_groups(student_list, num_groups, min_students_per_group, max_students_per_group):\n",
        "    random.shuffle(student_list)\n",
        "    groups = [student_list[i:i+max_students_per_group] for i in range(0, len(student_list), max_students_per_group)]\n",
        "    return groups\n",
        "\n",
        "student_list_fall = ['sb1826', 'lb0582', 'ab1820', 'sb1883', 'mb1296', 'sc1622', 'tc0469', 'ac1770', 'mc1453', 'ad1187', 'sd0926', 'sd1268', 'ag1609', 'sg1638', 'mg1299', 'vkk0022', 'bk0413', 'gk0257', 'am2807', 'gm0558', 'pm0658', 'am2346', 'rm1090', 'sm2364', 'sm2747', 'sm2343', 'vm0597', 'htn0086', 'sp2075', 'gp0306', 'lp0502', 'sr1508', 'vr0331', 'yr0180', 'as2819', 'ss2981', 'ns0756', 'mt0825', 'dt0463', 'su0137', 'dv0310']\n",
        "\n",
        "num_groups = 6\n",
        "min_students_per_group = 4\n",
        "max_students_per_group = 6\n",
        "\n",
        "grouped_students = divide_students_into_groups(student_list_fall, num_groups, min_students_per_group, max_students_per_group)\n",
        "if grouped_students:\n",
        "    for i, group in enumerate(grouped_students, start=1):\n",
        "        print(f\"Group {i}: {', '.join(group)}\")\n",
        "else:\n",
        "    print(\"Unable to divide students into groups as per the given criteria.\")"
      ]
    },
    {
      "cell_type": "markdown",
      "metadata": {
        "id": "fmZ9vX20Qs3d"
      },
      "source": [
        "(16) Write a Python program to find the duplicate elements in a given array of integers. Return -1 If there are no such elements."
      ]
    },
    {
      "cell_type": "code",
      "execution_count": 38,
      "metadata": {
        "id": "W8Jw6sWMQs3d",
        "colab": {
          "base_uri": "https://localhost:8080/"
        },
        "outputId": "3c479ea2-a57d-4451-992e-8b414d1be28d"
      },
      "outputs": [
        {
          "output_type": "stream",
          "name": "stdout",
          "text": [
            "Enter elements separated by spaces to create an array: 1 2 3 3 4 5\n",
            "Duplicate elements: {3}\n"
          ]
        }
      ],
      "source": [
        "def find_duplicate_elements(input_array):\n",
        "    seen = set()\n",
        "    duplicates = set()\n",
        "    for num in input_array:\n",
        "        if num in seen:\n",
        "            duplicates.add(num)\n",
        "        else:\n",
        "            seen.add(num)\n",
        "    return duplicates if duplicates else -1\n",
        "\n",
        "# Input elements of the array from the user\n",
        "input_array = list(map(int, input(\"Enter elements separated by spaces to create an array: \").split()))\n",
        "\n",
        "# Find duplicate elements\n",
        "duplicate_elements = find_duplicate_elements(input_array)\n",
        "\n",
        "if duplicate_elements == -1:\n",
        "    print(\"No duplicate elements found.\")\n",
        "else:\n",
        "    print(\"Duplicate elements:\", duplicate_elements)\n"
      ]
    },
    {
      "cell_type": "markdown",
      "metadata": {
        "id": "hvq4APMhQs3d"
      },
      "source": [
        "(17) Write a Python program to select all the Sundays of a specified year."
      ]
    },
    {
      "cell_type": "code",
      "execution_count": 24,
      "metadata": {
        "id": "ZnoxhSglQs3d",
        "colab": {
          "base_uri": "https://localhost:8080/"
        },
        "outputId": "869567bd-ab7c-4075-d2ac-5486988c341d"
      },
      "outputs": [
        {
          "output_type": "stream",
          "name": "stdout",
          "text": [
            "Enter a year: 2022\n",
            "Sundays in the year: 2022\n",
            "01-02\n",
            "01-09\n",
            "01-16\n",
            "01-23\n",
            "01-30\n",
            "02-06\n",
            "02-13\n",
            "02-20\n",
            "02-27\n",
            "03-06\n",
            "03-13\n",
            "03-20\n",
            "03-27\n",
            "04-03\n",
            "04-10\n",
            "04-17\n",
            "04-24\n",
            "05-01\n",
            "05-08\n",
            "05-15\n",
            "05-22\n",
            "05-29\n",
            "06-05\n",
            "06-12\n",
            "06-19\n",
            "06-26\n",
            "07-03\n",
            "07-10\n",
            "07-17\n",
            "07-24\n",
            "07-31\n",
            "08-07\n",
            "08-14\n",
            "08-21\n",
            "08-28\n",
            "09-04\n",
            "09-11\n",
            "09-18\n",
            "09-25\n",
            "10-02\n",
            "10-09\n",
            "10-16\n",
            "10-23\n",
            "10-30\n",
            "11-06\n",
            "11-13\n",
            "11-20\n",
            "11-27\n",
            "12-04\n",
            "12-11\n",
            "12-18\n",
            "12-25\n"
          ]
        }
      ],
      "source": [
        "import datetime\n",
        "\n",
        "def find_sundays(year):\n",
        "    sundays = []\n",
        "    date = datetime.date(year, 1, 1)\n",
        "    one_day = datetime.timedelta(days=1)\n",
        "\n",
        "    while date.year == year:\n",
        "        if date.weekday() == 6:\n",
        "            sundays.append(date)\n",
        "        date += one_day\n",
        "\n",
        "    return sundays\n",
        "\n",
        "# Input the year from the user\n",
        "year = int(input(\"Enter a year: \"))\n",
        "\n",
        "# Find and print all Sundays of the specified year\n",
        "sundays = find_sundays(year)\n",
        "\n",
        "print(f\"Sundays in the year: {year}\")\n",
        "for sunday in sundays:\n",
        "  print(sunday.strftime(\"%m-%d\"))\n"
      ]
    },
    {
      "cell_type": "markdown",
      "source": [
        "(18) Build a program that calculates the factorial of a given positive integer. The factorial of a non-negative integer n is the product of all positive integers less than or equal to n."
      ],
      "metadata": {
        "id": "55FWoSJPVVM6"
      }
    },
    {
      "cell_type": "code",
      "source": [
        "def factorial(n):\n",
        "    if n == 0 or n == 1:\n",
        "        return 1\n",
        "    return n * factorial(n - 1)\n",
        "\n",
        "n = int(input(\"Enter a positive integer: \"))\n",
        "# Input a positive integer from the user\n",
        "\n",
        "result = factorial(n)\n",
        "print(f\"The factorial of {n} is {result}\")\n"
      ],
      "metadata": {
        "id": "hwtr1wZmVX5A",
        "colab": {
          "base_uri": "https://localhost:8080/"
        },
        "outputId": "b3e41056-10f4-459e-ad70-be859aa20e08"
      },
      "execution_count": 26,
      "outputs": [
        {
          "output_type": "stream",
          "name": "stdout",
          "text": [
            "Enter a positive integer: 2\n",
            "The factorial of 2 is 2\n"
          ]
        }
      ]
    },
    {
      "cell_type": "markdown",
      "source": [
        "(19) Write a program that takes a positive integer n as input and prints the count of even numbers from 1 to n. Use a loop to iterate through the numbers and utilize the break statement to optimize the loop."
      ],
      "metadata": {
        "id": "Q9ecagcaVazW"
      }
    },
    {
      "cell_type": "code",
      "source": [
        "def count_even_numbers(n):\n",
        "    count = 0\n",
        "    for num in range(1, n + 1):\n",
        "        if num % 2 == 0:\n",
        "            count += 1\n",
        "        elif num > n:  # Optimize the loop using break\n",
        "            break\n",
        "    return count\n",
        "\n",
        "n = int(input(\"Enter a positive integer: \"))\n",
        "# Input a positive integer from the user\n",
        "\n",
        "even_count = count_even_numbers(n)\n",
        "print(f\"The count of even numbers from 1 to {n} is: {even_count}\")\n"
      ],
      "metadata": {
        "id": "gycgckoAVZjR",
        "colab": {
          "base_uri": "https://localhost:8080/"
        },
        "outputId": "0ad6c11f-cdc4-4bc1-e5f1-449497420490"
      },
      "execution_count": 27,
      "outputs": [
        {
          "output_type": "stream",
          "name": "stdout",
          "text": [
            "Enter a positive integer: 10\n",
            "The count of even numbers from 1 to 10 is: 5\n"
          ]
        }
      ]
    },
    {
      "cell_type": "markdown",
      "source": [
        "(20) Write a Python function called count_vowels that takes a string as input and returns the count of vowels (both lowercase and uppercase) present in the string. Consider the vowels to be 'a', 'e', 'i', 'o', and 'u'. Ignore spaces and other non-alphabetic characters."
      ],
      "metadata": {
        "id": "cboAr5pEWUf5"
      }
    },
    {
      "cell_type": "code",
      "source": [
        "def count_vowels(input_string):\n",
        "    vowels = \"aeiouAEIOU\"\n",
        "    vowel_count = 0\n",
        "    for char in input_string:\n",
        "        if char in vowels:\n",
        "            vowel_count += 1\n",
        "    return vowel_count\n",
        "\n",
        "input_string = input(\"Enter a string: \")\n",
        "# Input a string from the user\n",
        "\n",
        "vowel_count = count_vowels(input_string)\n",
        "print(f\"The count of vowels in the string is: {vowel_count}\")\n",
        "# Count the vowels in the input string"
      ],
      "metadata": {
        "id": "phs9gciMWWAW",
        "colab": {
          "base_uri": "https://localhost:8080/"
        },
        "outputId": "37e93083-0d81-4056-de02-f993972a8f93"
      },
      "execution_count": 28,
      "outputs": [
        {
          "output_type": "stream",
          "name": "stdout",
          "text": [
            "Enter a string: THIS is the number two\n",
            "The count of vowels in the string is: 6\n"
          ]
        }
      ]
    }
  ],
  "metadata": {
    "colab": {
      "provenance": [],
      "include_colab_link": true
    },
    "kernelspec": {
      "display_name": "Python 3 (ipykernel)",
      "language": "python",
      "name": "python3"
    },
    "language_info": {
      "codemirror_mode": {
        "name": "ipython",
        "version": 3
      },
      "file_extension": ".py",
      "mimetype": "text/x-python",
      "name": "python",
      "nbconvert_exporter": "python",
      "pygments_lexer": "ipython3",
      "version": "3.9.12"
    }
  },
  "nbformat": 4,
  "nbformat_minor": 0
}